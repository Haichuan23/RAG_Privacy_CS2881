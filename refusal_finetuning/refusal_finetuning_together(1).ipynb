{
  "cells": [
    {
      "cell_type": "markdown",
      "id": "95ad9a6d",
      "metadata": {
        "id": "95ad9a6d"
      },
      "source": [
        "# Finetuning models for refusal using Together API"
      ]
    },
    {
      "cell_type": "code",
      "execution_count": 10,
      "id": "8cbbb70a",
      "metadata": {
        "vscode": {
          "languageId": "plaintext"
        },
        "id": "8cbbb70a",
        "outputId": "22411d96-3195-4c15-a45b-b20effcd0b2f",
        "colab": {
          "base_uri": "https://localhost:8080/"
        }
      },
      "outputs": [
        {
          "output_type": "stream",
          "name": "stderr",
          "text": [
            "Cloning into 'RAG_Privacy_CS2881'...\n"
          ]
        }
      ],
      "source": [
        "%%bash\n",
        "cd /content\n",
        "rm -r RAG_Privacy_CS2881\n",
        "git clone --branch emira https://github.com/Haichuan23/RAG_Privacy_CS2881.git"
      ]
    },
    {
      "cell_type": "code",
      "execution_count": 8,
      "id": "9c46be4c",
      "metadata": {
        "vscode": {
          "languageId": "plaintext"
        },
        "id": "9c46be4c",
        "outputId": "7c3e1db7-8605-4853-efe6-90ce422e2deb",
        "colab": {
          "base_uri": "https://localhost:8080/"
        }
      },
      "outputs": [
        {
          "output_type": "stream",
          "name": "stdout",
          "text": [
            "/content/RAG_Privacy_CS2881/refusal_finetuning\n",
            "openjdk version \"21.0.8\" 2025-07-15\n",
            "OpenJDK Runtime Environment (build 21.0.8+9-Ubuntu-0ubuntu122.04.1)\n",
            "OpenJDK 64-Bit Server VM (build 21.0.8+9-Ubuntu-0ubuntu122.04.1, mixed mode, sharing)\n"
          ]
        }
      ],
      "source": [
        "%cd /content/RAG_Privacy_CS2881/refusal_finetuning/\n",
        "!pip install -r requirements.txt > /dev/null 2>&1\n",
        "!sudo apt-get update -y > /dev/null 2>&1\n",
        "!sudo apt-get install -y openjdk-21-jdk > /dev/null 2>&1\n",
        "!java -version"
      ]
    },
    {
      "cell_type": "code",
      "source": [
        "%cd /content/RAG_Privacy_CS2881/"
      ],
      "metadata": {
        "id": "EmZDNYLOGpJj",
        "outputId": "85b2663e-ad45-42a1-9aec-0530caf145c3",
        "colab": {
          "base_uri": "https://localhost:8080/"
        }
      },
      "id": "EmZDNYLOGpJj",
      "execution_count": 14,
      "outputs": [
        {
          "output_type": "stream",
          "name": "stdout",
          "text": [
            "/content/RAG_Privacy_CS2881\n"
          ]
        }
      ]
    },
    {
      "cell_type": "code",
      "source": [
        "!python modules/finetune_refusal_instruct.py \\\n",
        "    --finetune_output_dir ./finetune_data/io_output \\\n",
        "    --output_dir ./out\n"
      ],
      "metadata": {
        "id": "0OAXEPNbGBfD",
        "outputId": "d199e243-5398-4528-d298-ec7125626b7c",
        "colab": {
          "base_uri": "https://localhost:8080/"
        }
      },
      "id": "0OAXEPNbGBfD",
      "execution_count": 25,
      "outputs": [
        {
          "output_type": "stream",
          "name": "stdout",
          "text": [
            "Fine-tuned model output_name: haichuanwang23_9741/Qwen2.5-7B-Instruct-test0_cs2881_refusal-6426d2a0\n",
            "Traceback (most recent call last):\n",
            "  File \"/content/RAG_Privacy_CS2881/modules/finetune_refusal_instruct.py\", line 92, in <module>\n",
            "    main()\n",
            "  File \"/content/RAG_Privacy_CS2881/modules/finetune_refusal_instruct.py\", line 78, in main\n",
            "    response = client.chat.completions.create(\n",
            "               ^^^^^^^^^^^^^^^^^^^^^^^^^^^^^^^\n",
            "  File \"/usr/local/lib/python3.12/dist-packages/together/resources/chat/completions.py\", line 141, in create\n",
            "    response, _, _ = requestor.request(\n",
            "                     ^^^^^^^^^^^^^^^^^^\n",
            "  File \"/usr/local/lib/python3.12/dist-packages/together/abstract/api_requestor.py\", line 249, in request\n",
            "    resp, got_stream = self._interpret_response(result, stream)\n",
            "                       ^^^^^^^^^^^^^^^^^^^^^^^^^^^^^^^^^^^^^^^^\n",
            "  File \"/usr/local/lib/python3.12/dist-packages/together/abstract/api_requestor.py\", line 635, in _interpret_response\n",
            "    self._interpret_response_line(\n",
            "  File \"/usr/local/lib/python3.12/dist-packages/together/abstract/api_requestor.py\", line 683, in _interpret_response_line\n",
            "    raise error.ServiceUnavailableError(\n",
            "together.error.ServiceUnavailableError: Error code: 503 - The server is overloaded or not ready yet.\n"
          ]
        }
      ]
    },
    {
      "cell_type": "markdown",
      "source": [],
      "metadata": {
        "id": "P9k3D7JpN-c6"
      },
      "id": "P9k3D7JpN-c6"
    },
    {
      "cell_type": "code",
      "source": [
        "train_file = \"file-2a977589-00d3-434a-8c29-b90e9f8bd9a1\"\n",
        "fine_tuned_name = \"haichuanwang23_9741/Qwen2.5-7B-Instruct-test0_cs2881_refusal-6426d2a0\""
      ],
      "metadata": {
        "id": "s1MOXW_XOF5q"
      },
      "id": "s1MOXW_XOF5q",
      "execution_count": 23,
      "outputs": []
    },
    {
      "cell_type": "code",
      "source": [
        "fine_tuned_name = \"haichuanwang23_9741/Qwen2.5-7B-Instruct-test0_cs2881_refusal-6426d2a0\""
      ],
      "metadata": {
        "id": "mH0xFYB2OGa9"
      },
      "id": "mH0xFYB2OGa9",
      "execution_count": 22,
      "outputs": []
    },
    {
      "cell_type": "code",
      "source": [
        "%%bash\n",
        "export TOGETHER_API_KEY=\"tgp_v1_KwJYc8cSVAQ_JAbTfEpv7fYAkBIke6IVfMuQTRFlxlQ\"\n",
        "together models list | grep \"test0_cs2881_refusal\"\n",
        "together models list"
      ],
      "metadata": {
        "id": "PJyP0AqYQP3M",
        "outputId": "dda39fcc-9ddd-4b19-9279-10a4f0174cf6",
        "colab": {
          "base_uri": "https://localhost:8080/"
        }
      },
      "id": "PJyP0AqYQP3M",
      "execution_count": 32,
      "outputs": [
        {
          "output_type": "stream",
          "name": "stdout",
          "text": [
            "haichuanwang23_9741/Qwen2.5-7B-Instruct-test0_cs2881_refusal-6426d2a0  Fine-tuned Qwen2.5 7B Instruct 10-26-25       haichuanwang23_9741  ModelType.CHAT                   32768                                                             0                      0\n",
            "ID                                                                     Name                                          Organization         Type                    Context Length  License                                       Input per 1M token    Output per 1M token\n",
            "Alibaba-NLP/gte-modernbert-base                                        Gte Modernbert Base                           Alibaba Nlp          ModelType.EMBEDDING               8192  apache-2.0                                                 0.08                   0.08\n",
            "arcee-ai/AFM-4.5B                                                      Arcee AI AFM 4.5B                             Arcee AI             ModelType.CHAT                   65536                                                             0.048                  0.15\n",
            "arcee-ai/coder-large                                                   Arcee AI Coder-Large                          Arcee AI             ModelType.CHAT                   32768                                                             0.5                    0.8\n",
            "arcee-ai/maestro-reasoning                                             Arcee AI Maestro                              Arcee AI             ModelType.CHAT                  131072                                                             0.9                    3.3\n",
            "arcee-ai/virtuoso-large                                                Arcee AI Virtuoso-Large                       Arcee AI             ModelType.CHAT                  131072                                                             0.75                   1.2\n",
            "arcee_ai/arcee-spotlight                                               Arcee AI Spotlight                            Arcee AI             ModelType.CHAT                  131072                                                             0.18                   0.18\n",
            "arize-ai/qwen-2-1.5b-instruct                                          Arize AI Qwen 2 1.5B Instruct                 Togethercomputer     ModelType.CHAT                   32768                                                             0.1                    0.1\n",
            "BAAI/bge-base-en-v1.5                                                  BAAI-Bge-Base-1.5                             BAAI                 ModelType.EMBEDDING                512  MIT                                                        0.008                  0.008\n",
            "BAAI/bge-large-en-v1.5                                                 BAAI-Bge-Large-1.5                            BAAI                 ModelType.EMBEDDING                     MIT                                                        0.016                  0.016\n",
            "black-forest-labs/FLUX.1-Canny-pro                                     FLUX.1 Canny [pro]                            black-forest-labs    ModelType.IMAGE                                                                                    0                      0\n",
            "black-forest-labs/FLUX.1-dev                                           FLUX.1 [dev]                                  Black Forest Labs    ModelType.IMAGE                                                                                    0                      0\n",
            "black-forest-labs/FLUX.1-dev-lora                                      FLUX.1 [dev] LoRA                             Black Forest Labs    ModelType.IMAGE                                                                                    0                      0\n",
            "black-forest-labs/FLUX.1-kontext-dev                                   FLUX.1 Kontext [dev]                          Black Forest Labs    ModelType.IMAGE                                                                                    0                      0\n",
            "black-forest-labs/FLUX.1-kontext-max                                   FLUX.1 Kontext [max]                          Black Forest Labs    ModelType.IMAGE                      0                                                             0                      0\n",
            "black-forest-labs/FLUX.1-kontext-pro                                   FLUX.1 Kontext [pro]                          Black Forest Labs    ModelType.IMAGE                      0                                                             0                      0\n",
            "black-forest-labs/FLUX.1-krea-dev                                      FLUX.1 Krea [dev]                             Black Forest Labs    ModelType.IMAGE                                                                                    0                      0\n",
            "black-forest-labs/FLUX.1-pro                                           FLUX.1 [pro]                                  Black Forest Labs    ModelType.IMAGE                                                                                    0                      0\n",
            "black-forest-labs/FLUX.1-schnell                                       FLUX.1 Schnell                                Black Forest Labs    ModelType.IMAGE                                                                                    0                      0\n",
            "black-forest-labs/FLUX.1-schnell-Free                                  FLUX.1 [schnell] Free                         Black Forest Labs    ModelType.IMAGE                                                                                    0                      0\n",
            "black-forest-labs/FLUX.1.1-pro                                         FLUX1.1 [pro]                                 Black Forest Labs    ModelType.IMAGE                                                                                    0                      0\n",
            "ByteDance-Seed/Seedream-3.0                                            ByteDance Seedream 3.0                        ByteDance            ModelType.IMAGE                                                                                    0                      0\n",
            "ByteDance-Seed/Seedream-4.0                                            ByteDance Seedream 4.0                        ByteDance            ModelType.IMAGE                                                                                    0                      0\n",
            "ByteDance/Seedance-1.0-lite                                            ByteDance Seedance 1.0 Lite                   ByteDance            ModelType.VIDEO                                                                                    0                      0\n",
            "ByteDance/Seedance-1.0-pro                                             ByteDance Seedance 1.0 Pro                    ByteDance            ModelType.VIDEO                                                                                    0                      0\n",
            "cartesia/sonic                                                         Cartesia Sonic                                Together             ModelType.AUDIO                      0                                                            65                      0\n",
            "cartesia/sonic-2                                                       Cartesia Sonic 2                              Together             ModelType.AUDIO                      0                                                            65                      0\n",
            "codellama/CodeLlama-34b-Instruct-hf                                    Code Llama Instruct (34B)                     Meta                 ModelType.CHAT                   16384  LLAMA 2 Community license Agreement (Meta)                 0.776                  0.776\n",
            "deepcogito/cogito-v2-preview-deepseek-671b                             Cogito V2 Preview Deepseek 671B Moe           Deepcogito           ModelType.CHAT                  163840  mit                                                        1.25                   1.25\n",
            "deepcogito/cogito-v2-preview-llama-109B-MoE                            Cogito V2 Preview Llama 109B MoE              Deepcogito           ModelType.CHAT                   32767  llama4                                                     0.18                   0.59\n",
            "deepcogito/cogito-v2-preview-llama-405B                                Deepcogito Cogito V2 Preview Llama 405B       Deepcogito           ModelType.CHAT                   32768  llama3.1                                                   3.5                    3.5\n",
            "deepcogito/cogito-v2-preview-llama-70B                                 Deepcogito Cogito V2 Preview Llama 70B        Deepcogito           ModelType.CHAT                   32768  llama3.1                                                   0.88                   0.88\n",
            "deepseek-ai/DeepSeek-R1                                                DeepSeek R1-0528                              DeepSeek             ModelType.CHAT                  163840                                                             3                      7\n",
            "deepseek-ai/DeepSeek-R1-0528-tput                                      DeepSeek R1 0528 Throughput                   DeepSeek             ModelType.CHAT                  163840                                                             0.55                   2.19\n",
            "deepseek-ai/DeepSeek-R1-Distill-Llama-70B                              DeepSeek R1 Distill Llama 70B                 DeepSeek             ModelType.CHAT                  131072  mit                                                        2                      2\n",
            "deepseek-ai/DeepSeek-R1-Distill-Llama-70B-free                         DeepSeek R1 Distill Llama 70B Free            DeepSeek             ModelType.CHAT                    8192  mit                                                        0                      0\n",
            "deepseek-ai/DeepSeek-R1-Distill-Qwen-14B                               DeepSeek R1 Distill Qwen 14B                  DeepSeek             ModelType.CHAT                  131072  mit                                                        1.6                    1.6\n",
            "deepseek-ai/DeepSeek-V3                                                DeepSeek V3-0324                              DeepSeek             ModelType.CHAT                  131072                                                             1.25                   1.25\n",
            "deepseek-ai/DeepSeek-V3.1                                              Deepseek V3.1                                 DeepSeek             ModelType.CHAT                  131072  mit                                                        0.6                    1.7\n",
            "google/flash-image-2.5                                                 Gemini Flash Image 2.5 (Nano Banana)          Google               ModelType.IMAGE                                                                                    0                      0\n",
            "google/gemma-3n-E4B-it                                                 Gemma 3N E4B Instruct                         Google               ModelType.CHAT                   32768  gemma                                                      0.02                   0.04\n",
            "google/imagen-4.0-fast                                                 Google Imagen 4.0 Fast                        Google               ModelType.IMAGE                                                                                    0                      0\n",
            "google/imagen-4.0-preview                                              Google Imagen 4.0 Preview                     Google               ModelType.IMAGE                                                                                    0                      0\n",
            "google/imagen-4.0-ultra                                                Google Imagen 4.0 Ultra                       Google               ModelType.IMAGE                                                                                    0                      0\n",
            "google/veo-2.0                                                         Google Veo 2.0                                Google               ModelType.VIDEO                                                                                    0                      0\n",
            "google/veo-3.0                                                         Google Veo 3.0                                Google               ModelType.VIDEO                                                                                    0                      0\n",
            "google/veo-3.0-audio                                                   Google Veo 3.0 + Audio                        Google               ModelType.VIDEO                                                                                    0                      0\n",
            "google/veo-3.0-fast                                                    Google Veo 3.0 Fast                           Google               ModelType.VIDEO                                                                                    0                      0\n",
            "google/veo-3.0-fast-audio                                              Google Veo 3.0 Fast                           Google               ModelType.VIDEO                                                                                    0                      0\n",
            "haichuanwang23_9741/Qwen2.5-7B-Instruct-test0_cs2881_refusal-6426d2a0  Fine-tuned Qwen2.5 7B Instruct 10-26-25       haichuanwang23_9741  ModelType.CHAT                   32768                                                             0                      0\n",
            "HiDream-ai/HiDream-I1-Dev                                              HiDream-I1-Dev                                HiDream-ai           ModelType.IMAGE                                                                                    0                      0\n",
            "HiDream-ai/HiDream-I1-Fast                                             HiDream-I1-Fast                               HiDream-ai           ModelType.IMAGE                                                                                    0                      0\n",
            "HiDream-ai/HiDream-I1-Full                                             HiDream-I1-Full                               HiDream-ai           ModelType.IMAGE                                                                                    0                      0\n",
            "ideogram/ideogram-3.0                                                  Ideogram 3.0                                  ideogram             ModelType.IMAGE                                                                                    0                      0\n",
            "intfloat/multilingual-e5-large-instruct                                Multilingual E5 Large Instruct                Intfloat             ModelType.EMBEDDING                514  mit                                                        0.02                   0.02\n",
            "kwaivgI/kling-1.6-pro                                                  Kling 1.6 Pro                                 kwaivgI              ModelType.VIDEO                                                                                    0                      0\n",
            "kwaivgI/kling-1.6-standard                                             Kling 1.6 Standard                            kwaivgI              ModelType.VIDEO                                                                                    0                      0\n",
            "kwaivgI/kling-2.0-master                                               Kling 2.0 Master                              kwaivgI              ModelType.VIDEO                                                                                    0                      0\n",
            "kwaivgI/kling-2.1-master                                               Kling 2.1 Master                              kwaivgI              ModelType.VIDEO                                                                                    0                      0\n",
            "kwaivgI/kling-2.1-pro                                                  Kling 2.1 Pro                                 kwaivgI              ModelType.VIDEO                                                                                    0                      0\n",
            "kwaivgI/kling-2.1-standard                                             Kling 2.1 Standard                            kwaivgI              ModelType.VIDEO                                                                                    0                      0\n",
            "Lykon/DreamShaper                                                      Dreamshaper                                   Lykon                ModelType.IMAGE                                                                                    0                      0\n",
            "marin-community/marin-8b-instruct                                      Marin 8B Instruct                             Marin Community      ModelType.CHAT                    4096  apache-2.0                                                 0.18                   0.18\n",
            "meta-llama/Llama-3-70b-chat-hf                                         Meta Llama 3 70B Instruct Reference           Meta                 ModelType.CHAT                    8192  Llama-3 (Other)                                            0.88                   0.88\n",
            "meta-llama/Llama-3-70b-hf                                              Meta Llama 3 70B HF                           Meta                 ModelType.LANGUAGE                8192  llama3                                                     0.9                    0.9\n",
            "meta-llama/Llama-3.1-405B-Instruct                                     Meta Llama 3.1 405B Instruct                  Meta                 ModelType.CHAT                    4096  llama                                                      3.5                    3.5\n",
            "meta-llama/Llama-3.2-1B-Instruct                                       Meta Llama 3.2 1B Instruct                    Meta                 ModelType.CHAT                  131072  llama3.2                                                   0.06                   0.06\n",
            "meta-llama/Llama-3.2-3B-Instruct-Turbo                                 Meta Llama 3.2 3B Instruct Turbo              Meta                 ModelType.CHAT                  131072  Llama-3.1 (Other)                                          0.06                   0.06\n",
            "meta-llama/Llama-3.3-70B-Instruct-Turbo                                Meta Llama 3.3 70B Instruct Turbo             Meta                 ModelType.CHAT                  131072  Llama-3.3 (Other)                                          0.88                   0.88\n",
            "meta-llama/Llama-3.3-70B-Instruct-Turbo-Free                           Meta Llama 3.3 70B Instruct Turbo Free        Meta                 ModelType.CHAT                  131072  Llama-3.3 (Other)                                          0                      0\n",
            "meta-llama/Llama-4-Maverick-17B-128E-Instruct-FP8                      Llama 4 Maverick Instruct (17Bx128E)          Meta                 ModelType.CHAT                 1048576  llama4                                                     0.27                   0.85\n",
            "meta-llama/Llama-4-Scout-17B-16E-Instruct                              Llama 4 Scout Instruct (17Bx16E)              Meta                 ModelType.CHAT                 1048576  llama4                                                     0.18                   0.59\n",
            "meta-llama/Llama-Guard-3-11B-Vision-Turbo                              Meta Llama Guard 3 11B Vision Turbo           Meta                 ModelType.MODERATION            131072  llama                                                      0.18                   0.18\n",
            "meta-llama/Llama-Guard-4-12B                                           Llama Guard 4 12B                             Meta                 ModelType.MODERATION           1048576  other llama4                                               0.2                    0.2\n",
            "Meta-Llama/Llama-Guard-7b                                              Llama Guard (7B)                              Meta                 ModelType.MODERATION              4096  LLaMA license Agreement (Meta)                             0.2                    0.2\n",
            "meta-llama/LlamaGuard-2-8b                                             Meta Llama Guard 2 8B                         Meta                 ModelType.MODERATION              8192  Llama-3 (Other)                                            0.2                    0.2\n",
            "meta-llama/Meta-Llama-3-70B-Instruct-Turbo                             Meta Llama 3 70B Instruct Turbo               Meta                 ModelType.CHAT                    8192  Llama-3 (Other)                                            0.88                   0.88\n",
            "meta-llama/Meta-Llama-3-8B-Instruct                                    Meta Llama 3 8B Instruct                      Meta                 ModelType.CHAT                    8192  Llama-3 (Other)                                            0.2                    0.2\n",
            "meta-llama/Meta-Llama-3-8B-Instruct-Lite                               Meta Llama 3 8B Instruct Lite                 Meta                 ModelType.CHAT                    8192  Llama-3 (Other)                                            0.1                    0.1\n",
            "meta-llama/Meta-Llama-3.1-405B-Instruct-Lite-Pro                       Meta Llama 3.1 405B Instruct Turbo            Meta                 ModelType.CHAT                    4096  llama                                                      0                      0\n",
            "meta-llama/Meta-Llama-3.1-405B-Instruct-Turbo                          Meta Llama 3.1 405B Instruct Turbo            Meta                 ModelType.CHAT                  130815  llama                                                      3.5                    3.5\n",
            "meta-llama/Meta-Llama-3.1-70B-Instruct-Reference                       Meta Llama 3.1 70B Instruct                   Meta                 ModelType.CHAT                    8192  llama                                                      0.9                    0.9\n",
            "meta-llama/Meta-Llama-3.1-70B-Instruct-Turbo                           Meta Llama 3.1 70B Instruct Turbo             Meta                 ModelType.CHAT                  131072  Llama-3.1 (Other)                                          0.88                   0.88\n",
            "meta-llama/Meta-Llama-3.1-8B-Instruct-Reference                        Meta Llama 3.1 8B Instruct                    Meta                 ModelType.CHAT                   16384  Llama-3.1 (Other)                                          0.2                    0.2\n",
            "meta-llama/Meta-Llama-3.1-8B-Instruct-Turbo                            Meta Llama 3.1 8B Instruct Turbo              Meta                 ModelType.CHAT                  131072  Llama-3.1 (Other)                                          0.18                   0.18\n",
            "meta-llama/Meta-Llama-Guard-3-8B                                       Meta Llama Guard 3 8B                         Meta                 ModelType.MODERATION              8192  llama                                                      0.2                    0.2\n",
            "minimax/hailuo-02                                                      MiniMax Hailuo 02                             minimax              ModelType.VIDEO                                                                                    0                      0\n",
            "minimax/video-01-director                                              MiniMax 01 Director                           minimax              ModelType.VIDEO                                                                                    0                      0\n",
            "mistralai/Mistral-7B-Instruct-v0.1                                     Mistral (7B) Instruct v0.1                    mistralai            ModelType.CHAT                   32768  apache-2.0                                                 0.2                    0.2\n",
            "mistralai/Mistral-7B-Instruct-v0.2                                     Mistral (7B) Instruct v0.2                    mistralai            ModelType.CHAT                   32768  apache-2.0                                                 0.2                    0.2\n",
            "mistralai/Mistral-7B-Instruct-v0.3                                     Mistral (7B) Instruct v0.3                    mistralai            ModelType.CHAT                   32768  apache-2.0                                                 0.2                    0.2\n",
            "mistralai/Mistral-Small-24B-Instruct-2501                              Mistral Small (24B) Instruct 25.01            mistralai            ModelType.CHAT                   32768  apache-2.0                                                 0.8                    0.8\n",
            "mistralai/Mixtral-8x7B-Instruct-v0.1                                   Mixtral-8x7B Instruct v0.1                    mistralai            ModelType.CHAT                   32768  apache-2.0                                                 0.6                    0.6\n",
            "mixedbread-ai/Mxbai-Rerank-Large-V2                                    Mxbai Rerank Large V2                         Mixedbread AI        ModelType.RERANK                 32768  apache-2.0                                                 0.1                    0.1\n",
            "moonshotai/Kimi-K2-Instruct                                            Kimi K2 Instruct                              Moonshotai           ModelType.CHAT                  131072  other modified-mit                                         1                      3\n",
            "moonshotai/Kimi-K2-Instruct-0905                                       Kimi K2-Instruct 0905                         Moonshotai           ModelType.CHAT                  262144  other modified-mit                                         1                      3\n",
            "nvidia/NVIDIA-Nemotron-Nano-9B-v2                                      Nvidia Nemotron Nano 9B V2                    Nvidia               ModelType.CHAT                  131072  other nvidia-open-model-license                            0.06                   0.25\n",
            "openai/gpt-oss-120b                                                    OpenAI GPT-OSS 120B                           OpenAI               ModelType.CHAT                  131072  other                                                      0.15                   0.6\n",
            "openai/gpt-oss-20b                                                     OpenAI GPT-OSS 20B                            OpenAI               ModelType.CHAT                  131072  apache-2.0                                                 0.05                   0.2\n",
            "openai/sora-2                                                          Sora 2                                        OpenAI               ModelType.VIDEO                                                                                    0                      0\n",
            "openai/sora-2-pro                                                      Sora 2 Pro                                    OpenAI               ModelType.VIDEO                                                                                    0                      0\n",
            "openai/whisper-large-v3                                                Whisper large-v3                              OpenAI               ModelType.TRANSCRIBE                    apache2                                                    0.27                   0.85\n",
            "pixverse/pixverse-v5                                                   PixVerse v5                                   PixVerse             ModelType.VIDEO                                                                                    0                      0\n",
            "Qwen/Qwen-Image                                                        Qwen Image                                    Qwen                 ModelType.IMAGE                                                                                    0                      0\n",
            "Qwen/Qwen2.5-14B-Instruct                                              Qwen 2.5 14B Instruct                                              ModelType.CHAT                   32768  apache-2.0                                                 0.8                    0.8\n",
            "Qwen/Qwen2.5-72B-Instruct                                              Qwen2.5 72B Instruct                          Qwen                 ModelType.CHAT                   32768  Qwen                                                       1.2                    1.2\n",
            "Qwen/Qwen2.5-72B-Instruct-Turbo                                        Qwen2.5 72B Instruct Turbo                    Qwen                 ModelType.CHAT                  131072  Qwen                                                       1.2                    1.2\n",
            "Qwen/Qwen2.5-7B-Instruct-Turbo                                         Qwen2.5 7B Instruct Turbo                     Qwen                 ModelType.CHAT                   32768  Qwen                                                       0.3                    0.3\n",
            "Qwen/Qwen2.5-Coder-32B-Instruct                                        Qwen 2.5 Coder 32B Instruct                   Qwen                 ModelType.CHAT                   16384  Qwen                                                       0.8                    0.8\n",
            "Qwen/Qwen2.5-VL-72B-Instruct                                           Qwen2.5-VL (72B) Instruct                     Qwen                 ModelType.CHAT                   32768  tongyi-qianwen                                             1.95                   8\n",
            "Qwen/Qwen3-235B-A22B-fp8-tput                                          Qwen3 235B A22B FP8 Throughput                Qwen                 ModelType.CHAT                   40960  apache-2.0                                                 0.2                    0.6\n",
            "Qwen/Qwen3-235B-A22B-Instruct-2507-tput                                Qwen3 235B A22B Instruct 2507 FP8 Throughput  Qwen                 ModelType.CHAT                  262144  apache-2.0                                                 0.2                    0.6\n",
            "Qwen/Qwen3-235B-A22B-Thinking-2507                                     Qwen3 235B A22B Thinking 2507 FP8             Qwen                 ModelType.CHAT                  262144  apache-2.0                                                 0.65                   3\n",
            "Qwen/Qwen3-Coder-480B-A35B-Instruct-FP8                                Qwen3 Coder 480B A35B Instruct Fp8            Qwen                 ModelType.CHAT                  262144  apache-2.0                                                 2                      2\n",
            "Qwen/Qwen3-Next-80B-A3B-Instruct                                       Qwen3 Next 80B A3b Instruct                   Qwen                 ModelType.CHAT                  262144  apache-2.0                                                 0.15                   1.5\n",
            "Qwen/Qwen3-Next-80B-A3B-Thinking                                       Qwen3 Next 80B A3b Thinking                   Qwen                 ModelType.CHAT                  262144  apache-2.0                                                 0.15                   1.5\n",
            "Qwen/QwQ-32B                                                           Qwen QwQ-32B                                  Qwen                 ModelType.CHAT                  131072  Qwen                                                       1.2                    1.2\n",
            "Rundiffusion/Juggernaut-Lightning-Flux                                 Juggernaut Lightning Flux by RunDiffusion     RunDiffusion         ModelType.IMAGE                                                                                    0                      0\n",
            "RunDiffusion/Juggernaut-pro-flux                                       Juggernaut Pro Flux by RunDiffusion 1.0.0     RunDiffusion         ModelType.IMAGE                                                                                    0                      0\n",
            "Salesforce/Llama-Rank-V1                                               Salesforce Llama Rank V1 (8B)                 salesforce           ModelType.RERANK                  8192  llama3                                                     0.1                    0.1\n",
            "scb10x/scb10x-typhoon-2-1-gemma3-12b                                   Typhoon 2.1 12B                                                    ModelType.CHAT                  131072  gemma                                                      0.2                    0.2\n",
            "ServiceNow-AI/Apriel-1.5-15b-Thinker                                   Apriel 1.5 15B Thinker                        Servicenow AI        ModelType.CHAT                  131072  mit                                                        0                      0\n",
            "stabilityai/stable-diffusion-3-medium                                  Stable Diffusion 3                            stabilityai          ModelType.IMAGE                                                                                    0                      0\n",
            "stabilityai/stable-diffusion-xl-base-1.0                               SD XL                                         stabilityai          ModelType.IMAGE                                                                                    0                      0\n",
            "togethercomputer/m2-bert-80M-32k-retrieval                             M2-BERT-Retrieval-32k                         Together             ModelType.EMBEDDING              32768  apache-2.0                                                 0.008                  0.008\n",
            "togethercomputer/MoA-1                                                 Together AI MoA-1                             Together AI          ModelType.CHAT                   32768                                                             0                      0\n",
            "togethercomputer/MoA-1-Turbo                                           Together AI MoA-1-Turbo                       Together AI          ModelType.CHAT                   32768                                                             0                      0\n",
            "togethercomputer/Refuel-Llm-V2                                         Refuel LLM V2                                 Refuel AI            ModelType.CHAT                   16384  cc-by-nc-4.0                                               0.6                    0.6\n",
            "togethercomputer/Refuel-Llm-V2-Small                                   Refuel LLM V2 Small                           Refuel AI            ModelType.CHAT                    8192                                                             0.2                    0.2\n",
            "vidu/vidu-2.0                                                          Vidu 2.0                                      vidu                 ModelType.VIDEO                                                                                    0                      0\n",
            "vidu/vidu-q1                                                           Vidu Q1                                       vidu                 ModelType.VIDEO                                                                                    0                      0\n",
            "Virtue-AI/VirtueGuard-Text-Lite                                        Virtueguard Text Lite                         Virtue AI            ModelType.MODERATION             32768  unknown                                                    0.2                    0.2\n",
            "Wan-AI/Wan2.2-I2V-A14B                                                 Wan 2.2 I2V                                   Wan-AI               ModelType.VIDEO                                                                                    0                      0\n",
            "Wan-AI/Wan2.2-T2V-A14B                                                 Wan 2.2 T2V                                   Wan-AI               ModelType.VIDEO                                                                                    0                      0\n",
            "zai-org/GLM-4.5-Air-FP8                                                Glm 4.5 Air Fp8                               Zai Org              ModelType.CHAT                  131072  mit                                                        0.2                    1.1\n"
          ]
        }
      ]
    }
  ],
  "metadata": {
    "language_info": {
      "name": "python"
    },
    "colab": {
      "provenance": []
    },
    "kernelspec": {
      "name": "python3",
      "display_name": "Python 3"
    }
  },
  "nbformat": 4,
  "nbformat_minor": 5
}