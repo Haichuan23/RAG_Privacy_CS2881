{
 "cells": [
  {
   "cell_type": "markdown",
   "id": "95ad9a6d",
   "metadata": {},
   "source": [
    "# Finetuning models for refusal using Together API"
   ]
  },
  {
   "cell_type": "code",
   "execution_count": null,
   "id": "8cbbb70a",
   "metadata": {
    "vscode": {
     "languageId": "plaintext"
    }
   },
   "outputs": [],
   "source": [
    "%%bash\n",
    "cd /content\n",
    "rm -r RAG_Privacy_CS2881\n",
    "git clone --branch henry https://github.com/Haichuan23/RAG_Privacy_CS2881.git"
   ]
  },
  {
   "cell_type": "code",
   "execution_count": null,
   "id": "9c46be4c",
   "metadata": {
    "vscode": {
     "languageId": "plaintext"
    }
   },
   "outputs": [],
   "source": [
    "%cd /content/RAG_Privacy_CS2881/refusal_finetuning/\n",
    "!pip install -r requirements.txt > /dev/null 2>&1\n",
    "!sudo apt-get update -y > /dev/null 2>&1\n",
    "!sudo apt-get install -y openjdk-21-jdk > /dev/null 2>&1\n",
    "!java -version"
   ]
  }
 ],
 "metadata": {
  "language_info": {
   "name": "python"
  }
 },
 "nbformat": 4,
 "nbformat_minor": 5
}
