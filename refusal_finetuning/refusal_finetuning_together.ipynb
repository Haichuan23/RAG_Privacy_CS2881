{
  "cells": [
    {
      "cell_type": "markdown",
      "id": "95ad9a6d",
      "metadata": {
        "id": "95ad9a6d"
      },
      "source": [
        "# Finetuning models for refusal using Together API"
      ]
    },
    {
      "cell_type": "code",
      "execution_count": 33,
      "id": "8cbbb70a",
      "metadata": {
        "vscode": {
          "languageId": "plaintext"
        },
        "colab": {
          "base_uri": "https://localhost:8080/"
        },
        "id": "8cbbb70a",
        "outputId": "47e8612f-53ba-4808-f4f8-52e7167c64c0"
      },
      "outputs": [
        {
          "output_type": "stream",
          "name": "stderr",
          "text": [
            "Cloning into 'RAG_Privacy_CS2881'...\n"
          ]
        }
      ],
      "source": [
        "%%bash\n",
        "cd /content\n",
        "rm -r RAG_Privacy_CS2881\n",
        "git clone --branch emira https://github.com/Haichuan23/RAG_Privacy_CS2881.git"
      ]
    },
    {
      "cell_type": "code",
      "execution_count": 8,
      "id": "9c46be4c",
      "metadata": {
        "vscode": {
          "languageId": "plaintext"
        },
        "colab": {
          "base_uri": "https://localhost:8080/"
        },
        "id": "9c46be4c",
        "outputId": "7c3e1db7-8605-4853-efe6-90ce422e2deb"
      },
      "outputs": [
        {
          "output_type": "stream",
          "name": "stdout",
          "text": [
            "/content/RAG_Privacy_CS2881/refusal_finetuning\n",
            "openjdk version \"21.0.8\" 2025-07-15\n",
            "OpenJDK Runtime Environment (build 21.0.8+9-Ubuntu-0ubuntu122.04.1)\n",
            "OpenJDK 64-Bit Server VM (build 21.0.8+9-Ubuntu-0ubuntu122.04.1, mixed mode, sharing)\n"
          ]
        }
      ],
      "source": [
        "%cd /content/RAG_Privacy_CS2881/refusal_finetuning/\n",
        "!pip install -r requirements.txt > /dev/null 2>&1\n",
        "!sudo apt-get update -y > /dev/null 2>&1\n",
        "!sudo apt-get install -y openjdk-21-jdk > /dev/null 2>&1\n",
        "!java -version"
      ]
    },
    {
      "cell_type": "code",
      "source": [
        "%cd /content/RAG_Privacy_CS2881/"
      ],
      "metadata": {
        "colab": {
          "base_uri": "https://localhost:8080/"
        },
        "id": "EmZDNYLOGpJj",
        "outputId": "1ca1a37d-501f-48dc-df65-bc488c3d3f87"
      },
      "id": "EmZDNYLOGpJj",
      "execution_count": 34,
      "outputs": [
        {
          "output_type": "stream",
          "name": "stdout",
          "text": [
            "/content/RAG_Privacy_CS2881\n"
          ]
        }
      ]
    },
    {
      "cell_type": "code",
      "source": [
        "!bash finetune_instruct.sh"
      ],
      "metadata": {
        "id": "C7lL6C44ZlBO",
        "outputId": "f027a5ed-2688-4ab5-c8bd-8884a4dd0a54",
        "colab": {
          "base_uri": "https://localhost:8080/"
        }
      },
      "id": "C7lL6C44ZlBO",
      "execution_count": 38,
      "outputs": [
        {
          "output_type": "stream",
          "name": "stdout",
          "text": [
            "finetune_instruct.sh: line 3: .venv/bin/activate: No such file or directory\n",
            "=== Fine-tuning Refusal Script ===\n",
            "Model: Qwen/Qwen2.5-7B-Instruct\n",
            "Test Number: 0\n",
            "Action: test\n",
            "Training File: ./refusal_finetuning/malicious_pairs_parallel.json\n",
            "Timestamp: 20251026_214435\n",
            "==================================\n",
            "====== TESTING FINE-TUNED MODEL ======\n",
            "Testing model: haichuanwang23_9741/Qwen2.5-7B-Instruct-test0_cs2881_refusal-6426d2a0\n",
            "Prompt: What's the capital of France?\n",
            "Error testing model: Error code: 503 - The server is overloaded or not ready yet.\n",
            "Error: Error code: 503 - The server is overloaded or not ready yet.\n"
          ]
        }
      ]
    },
    {
      "cell_type": "markdown",
      "source": [
        "IDs for the model I fine-tuned/file I uploaded"
      ],
      "metadata": {
        "id": "P9k3D7JpN-c6"
      },
      "id": "P9k3D7JpN-c6"
    },
    {
      "cell_type": "code",
      "source": [
        "train_file = \"file-2a977589-00d3-434a-8c29-b90e9f8bd9a1\"\n",
        "fine_tuned_name = \"haichuanwang23_9741/Qwen2.5-7B-Instruct-test0_cs2881_refusal-6426d2a0\""
      ],
      "metadata": {
        "id": "s1MOXW_XOF5q"
      },
      "id": "s1MOXW_XOF5q",
      "execution_count": 23,
      "outputs": []
    },
    {
      "cell_type": "code",
      "source": [
        "from together import Together\n",
        "from google.colab import userdata"
      ],
      "metadata": {
        "id": "BveNnRpnfl-w"
      },
      "id": "BveNnRpnfl-w",
      "execution_count": 43,
      "outputs": []
    },
    {
      "cell_type": "code",
      "source": [
        "# List your fine-tuned models\n",
        "TOGETHER_API_KEY = userdata.get('TOGETHER_API_KEY')\n",
        "client = Together(api_key=TOGETHER_API_KEY)\n",
        "\n",
        "models = client.models.list()\n",
        "\n",
        "for model in models:\n",
        "    if \"test0_cs2881_refusal\" in model.id:\n",
        "        print(f\"Model: {model.id}\")\n",
        "        print(f\"Status: {model}\")"
      ],
      "metadata": {
        "id": "92OpXrO6fdwZ",
        "outputId": "96605ad4-cfae-49b0-82d9-79aabaa0c03f",
        "colab": {
          "base_uri": "https://localhost:8080/"
        }
      },
      "id": "92OpXrO6fdwZ",
      "execution_count": 44,
      "outputs": [
        {
          "output_type": "stream",
          "name": "stdout",
          "text": [
            "Model: haichuanwang23_9741/Qwen2.5-7B-Instruct-test0_cs2881_refusal-6426d2a0\n",
            "Status: id='haichuanwang23_9741/Qwen2.5-7B-Instruct-test0_cs2881_refusal-6426d2a0' object=<ObjectType.Model: 'model'> created=1761509976 type=<ModelType.CHAT: 'chat'> display_name='Fine-tuned Qwen2.5 7B Instruct 10-26-25' organization='haichuanwang23_9741' link='' license='' context_length=32768 pricing=PricingObject(input=0.0, output=0.0, hourly=1.4, base=0.0, finetune=0.0) running=False config={'chat_template': '{%- if tools %}\\n    {{- \\'<|im_start|>system\\\\n\\' }}\\n    {%- if messages[0][\\'role\\'] == \\'system\\' %}\\n        {{- messages[0][\\'content\\'] }}\\n    {%- else %}\\n        {{- \\'You are Qwen, created by Alibaba Cloud. You are a helpful assistant.\\' }}\\n    {%- endif %}\\n    {{- \"\\\\n\\\\n# Tools\\\\n\\\\nYou may call one or more functions to assist with the user query.\\\\n\\\\nYou are provided with function signatures within <tools></tools> XML tags:\\\\n<tools>\" }}\\n    {%- for tool in tools %}\\n        {{- \"\\\\n\" }}\\n        {{- tool | tojson }}\\n    {%- endfor %}\\n    {{- \"\\\\n</tools>\\\\n\\\\nFor each function call, return a json object with function name and arguments within <tool_call></tool_call> XML tags:\\\\n<tool_call>\\\\n{\\\\\"name\\\\\": <function-name>, \\\\\"arguments\\\\\": <args-json-object>}\\\\n</tool_call><|im_end|>\\\\n\" }}\\n{%- else %}\\n    {%- if messages[0][\\'role\\'] == \\'system\\' %}\\n        {{- \\'<|im_start|>system\\\\n\\' + messages[0][\\'content\\'] + \\'<|im_end|>\\\\n\\' }}\\n    {%- else %}\\n        {{- \\'<|im_start|>system\\\\nYou are Qwen, created by Alibaba Cloud. You are a helpful assistant.<|im_end|>\\\\n\\' }}\\n    {%- endif %}\\n{%- endif %}\\n{%- for message in messages %}\\n    {%- if (message.role == \"user\") or (message.role == \"system\" and not loop.first) or (message.role == \"assistant\" and not message.tool_calls) %}\\n        {{- \\'<|im_start|>\\' + message.role + \\'\\\\n\\' + message.content + \\'<|im_end|>\\' + \\'\\\\n\\' }}\\n    {%- elif message.role == \"assistant\" %}\\n        {{- \\'<|im_start|>\\' + message.role }}\\n        {%- if message.content %}\\n            {{- \\'\\\\n\\' + message.content }}\\n        {%- endif %}\\n        {%- for tool_call in message.tool_calls %}\\n            {%- if tool_call.function is defined %}\\n                {%- set tool_call = tool_call.function %}\\n            {%- endif %}\\n            {{- \\'\\\\n<tool_call>\\\\n{\"name\": \"\\' }}\\n            {{- tool_call.name }}\\n            {{- \\'\", \"arguments\": \\' }}\\n            {{- tool_call.arguments | tojson }}\\n            {{- \\'}\\\\n</tool_call>\\' }}\\n        {%- endfor %}\\n        {{- \\'<|im_end|>\\\\n\\' }}\\n    {%- elif message.role == \"tool\" %}\\n        {%- if (loop.index0 == 0) or (messages[loop.index0 - 1].role != \"tool\") %}\\n            {{- \\'<|im_start|>user\\' }}\\n        {%- endif %}\\n        {{- \\'\\\\n<tool_response>\\\\n\\' }}\\n        {{- message.content }}\\n        {{- \\'\\\\n</tool_response>\\' }}\\n        {%- if loop.last or (messages[loop.index0 + 1].role != \"tool\") %}\\n            {{- \\'<|im_end|>\\\\n\\' }}\\n        {%- endif %}\\n    {%- endif %}\\n{%- endfor %}\\n{%- if add_generation_prompt %}\\n    {{- \\'<|im_start|>assistant\\\\n\\' }}\\n{%- endif %}\\n', 'stop': ['<|im_end|>'], 'bos_token': None, 'eos_token': '<|im_end|>'}\n"
          ]
        }
      ]
    },
    {
      "cell_type": "code",
      "source": [
        "response = client.fine_tuning.list()\n",
        "\n",
        "if hasattr(response, 'data'):\n",
        "    jobs = response.data\n",
        "else:\n",
        "    jobs = response[0] if isinstance(response, tuple) else response\n",
        "\n",
        "for job in jobs:\n",
        "    print(f\"Job ID: {job.id}\")\n",
        "    print(f\"Status: {job.status}\")\n",
        "    print(f\"Model: {job.output_name}\")\n",
        "    print(f\"Created: {job.created_at}\")\n",
        "    print(\"---\")"
      ],
      "metadata": {
        "id": "HAAJmUaohefJ",
        "outputId": "573037a4-17a0-4d12-b739-270076bec3e8",
        "colab": {
          "base_uri": "https://localhost:8080/"
        }
      },
      "id": "HAAJmUaohefJ",
      "execution_count": 47,
      "outputs": [
        {
          "output_type": "stream",
          "name": "stdout",
          "text": [
            "Job ID: ft-780d44b9-9126\n",
            "Status: FinetuneJobStatus.STATUS_COMPLETED\n",
            "Model: haichuanwang23_9741/Qwen2.5-7B-Instruct-test0_cs2881_refusal-6426d2a0\n",
            "Created: 2025-10-26T20:11:46.853Z\n",
            "---\n"
          ]
        }
      ]
    }
  ],
  "metadata": {
    "language_info": {
      "name": "python"
    },
    "colab": {
      "provenance": []
    },
    "kernelspec": {
      "name": "python3",
      "display_name": "Python 3"
    }
  },
  "nbformat": 4,
  "nbformat_minor": 5
}